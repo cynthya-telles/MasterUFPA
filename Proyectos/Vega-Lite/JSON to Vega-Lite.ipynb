{
 "cells": [
  {
   "cell_type": "markdown",
   "metadata": {},
   "source": [
    "#### Ruta:\n",
    "- Se especifica la ruta en la cual están los archivos JSON a convetir"
   ]
  },
  {
   "cell_type": "code",
   "execution_count": 13,
   "metadata": {},
   "outputs": [],
   "source": [
    "import json\n",
    "import numpy as np\n"
   ]
  },
  {
   "cell_type": "code",
   "execution_count": 14,
   "metadata": {},
   "outputs": [],
   "source": [
    "with open('JsonsSend/bar10.png.json') as file:\n",
    "    data = json.load(file)"
   ]
  },
  {
   "cell_type": "code",
   "execution_count": 15,
   "metadata": {
    "scrolled": true
   },
   "outputs": [
    {
     "data": {
      "text/plain": [
       "{'Barras': {'0': [69, 29, 24, 200],\n",
       "  '1': [116, 163, 24, 66],\n",
       "  '2': [163, 229, 24, 0],\n",
       "  '3': [210, 229, 24, 0],\n",
       "  '4': [257, 163, 24, 66],\n",
       "  '5': [304, 229, 24, 0],\n",
       "  '6': [351, 163, 24, 66]},\n",
       " 'xAxis': {'0': 229,\n",
       "  '1': 229,\n",
       "  '2': 229,\n",
       "  '3': 229,\n",
       "  '4': 229,\n",
       "  '5': 229,\n",
       "  '6': 229},\n",
       " 'OCRStatus': {'0': 'total',\n",
       "  '1': 'total',\n",
       "  '2': 'total',\n",
       "  '3': 'total',\n",
       "  '4': 'total',\n",
       "  '5': 'total',\n",
       "  '6': 'total'},\n",
       " 'ponto': {'0': 'Found by OCR',\n",
       "  '1': 'Found by OCR',\n",
       "  '2': 'Found by OCR',\n",
       "  '3': 'Found by OCR',\n",
       "  '4': 'Found by OCR',\n",
       "  '5': 'Found by OCR',\n",
       "  '6': 'Found by OCR'},\n",
       " 'ValorBarras': {'0': 3.0769230769,\n",
       "  '1': 1.0153846154,\n",
       "  '2': 0.0,\n",
       "  '3': 0.0,\n",
       "  '4': 1.0153846154,\n",
       "  '5': 0.0,\n",
       "  '6': 1.0153846154}}"
      ]
     },
     "execution_count": 15,
     "metadata": {},
     "output_type": "execute_result"
    }
   ],
   "source": [
    "data"
   ]
  },
  {
   "cell_type": "code",
   "execution_count": 117,
   "metadata": {},
   "outputs": [],
   "source": [
    "import json\n",
    "import numpy as np\n",
    "dict_val = {}\n",
    "list_itm = []\n",
    "mark = \"bar\"\n",
    "for idx in range(len(data[\"ValorBarras\"])):\n",
    "    #para el valor de las barras\n",
    "    list_itm.append({\"a\":idx,\"b\":data[\"ValorBarras\"][str(idx)]})\n",
    "#se agregan los datos a graficar\n",
    "dict_val[\"data\"] = {\"values\": list_itm}\n",
    "dict_val[\"mark\"] = mark\n",
    "dict_val[\"encoding\"] = {\"x\": {\"field\": \"a\", \"type\": \"nominal\"},\n",
    "                        \"y\": {\"aggregate\": \"average\", \"field\": \"b\", \"type\": \"quantitative\"}}\n",
    "jsonarray = json.dumps(dict_val)"
   ]
  },
  {
   "cell_type": "code",
   "execution_count": 118,
   "metadata": {},
   "outputs": [
    {
     "data": {
      "text/plain": [
       "{'data': {'values': [{'a': 0, 'b': 3.0769230769},\n",
       "   {'a': 1, 'b': 1.0153846154},\n",
       "   {'a': 2, 'b': 0.0},\n",
       "   {'a': 3, 'b': 0.0},\n",
       "   {'a': 4, 'b': 1.0153846154},\n",
       "   {'a': 5, 'b': 0.0},\n",
       "   {'a': 6, 'b': 1.0153846154}]},\n",
       " 'mark': 'bar',\n",
       " 'encoding': {'x': {'field': 'a', 'type': 'nominal'},\n",
       "  'y': {'aggregate': 'average', 'field': 'b', 'type': 'quantitative'}}}"
      ]
     },
     "execution_count": 118,
     "metadata": {},
     "output_type": "execute_result"
    }
   ],
   "source": [
    "dict_val"
   ]
  },
  {
   "cell_type": "markdown",
   "metadata": {},
   "source": [
    "### Json to Json/Vega Lite\n",
    "- Se crea la función para convertir el formato JSON en un formato JSON que se pueda visualizar en Vega-Lite."
   ]
  },
  {
   "cell_type": "code",
   "execution_count": 11,
   "metadata": {},
   "outputs": [],
   "source": [
    "def convert_jsonVlite(r_path, s_path, mark=\"bar\"):\n",
    "    \"\"\"\n",
    "    Función para convertir Json en JsonVegLite\n",
    "    r_path: directorio donde están los Json\n",
    "    s_path: directorio donde se guardarán los nuevo archivos\n",
    "    mark: tipo de gráfico\n",
    "    \"\"\"\n",
    "    import json\n",
    "    import numpy as np\n",
    "    from glob import glob\n",
    "    count = 1\n",
    "    for j_name in glob(r_path + \".json\"):\n",
    "        n_files = len(glob(r_path))\n",
    "        with open(j_name) as file:\n",
    "            data = json.load(file)\n",
    "        print (\"[Procesando \" + str(count) + \" de \" + str(n_files) + \", nombre \" + j_name + \"]\")\n",
    "        dict_val = {}\n",
    "        list_itm = []\n",
    "        for idx in range(len(data[\"ValorBarras\"])):\n",
    "            #para el valor de las barras\n",
    "            list_itm.append({\"a\":idx,\"b\":data[\"ValorBarras\"][str(idx)]})\n",
    "        #se agregan los datos a graficar\n",
    "        dict_val[\"data\"] = {\"values\": list_itm}\n",
    "        dict_val[\"mark\"] = mark\n",
    "        dict_val[\"encoding\"] = {\"x\": {\"field\": \"a\", \"type\": \"nominal\"},\n",
    "                                \"y\": {\"field\": \"b\", \"type\": \"quantitative\"}}\n",
    "        #jsonarray = json.dumps(dict_val)\n",
    "        count += 1\n",
    "        #filePathNameWExt = './' + s_path + '/' + j_name\n",
    "        with open(s_path + \"/VL\" + j_name.split(\"/\")[-1], 'w') as fp:\n",
    "            json.dump(dict_val, fp)"
   ]
  },
  {
   "cell_type": "code",
   "execution_count": 12,
   "metadata": {
    "scrolled": true
   },
   "outputs": [
    {
     "name": "stdout",
     "output_type": "stream",
     "text": [
      "[Procesando 1 de 9, nombre JsonsSend/bar10.png.json]\n",
      "[Procesando 2 de 9, nombre JsonsSend/bar3.png.json]\n",
      "[Procesando 3 de 9, nombre JsonsSend/bar7.png.json]\n",
      "[Procesando 4 de 9, nombre JsonsSend/bar1.png.json]\n",
      "[Procesando 5 de 9, nombre JsonsSend/bar5.png.json]\n",
      "[Procesando 6 de 9, nombre JsonsSend/bar0.png.json]\n",
      "[Procesando 7 de 9, nombre JsonsSend/bar9.png.json]\n",
      "[Procesando 8 de 9, nombre JsonsSend/bar6.png.json]\n",
      "[Procesando 9 de 9, nombre JsonsSend/bar8.png.json]\n"
     ]
    }
   ],
   "source": [
    "convert_jsonVlite(\"JsonsSend/*\", \"Resultados\",mark=\"bar\")"
   ]
  },
  {
   "cell_type": "code",
   "execution_count": null,
   "metadata": {},
   "outputs": [],
   "source": []
  }
 ],
 "metadata": {
  "kernelspec": {
   "display_name": "Python 3",
   "language": "python",
   "name": "python3"
  },
  "language_info": {
   "codemirror_mode": {
    "name": "ipython",
    "version": 3
   },
   "file_extension": ".py",
   "mimetype": "text/x-python",
   "name": "python",
   "nbconvert_exporter": "python",
   "pygments_lexer": "ipython3",
   "version": "3.6.5"
  }
 },
 "nbformat": 4,
 "nbformat_minor": 2
}
